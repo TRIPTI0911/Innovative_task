{
  "cells": [
    {
      "cell_type": "code",
      "source": [
        "!pip install transformers torch\n",
        "\n",
        "\n"
      ],
      "metadata": {
        "colab": {
          "base_uri": "https://localhost:8080/"
        },
        "id": "nqKH3IC5fYyW",
        "outputId": "8f08a3e4-89aa-464c-811d-338ec91019a2"
      },
      "execution_count": null,
      "outputs": [
        {
          "output_type": "stream",
          "name": "stdout",
          "text": [
            "Requirement already satisfied: transformers in /usr/local/lib/python3.10/dist-packages (4.44.2)\n",
            "Requirement already satisfied: torch in /usr/local/lib/python3.10/dist-packages (2.4.1+cu121)\n",
            "Requirement already satisfied: filelock in /usr/local/lib/python3.10/dist-packages (from transformers) (3.16.1)\n",
            "Requirement already satisfied: huggingface-hub<1.0,>=0.23.2 in /usr/local/lib/python3.10/dist-packages (from transformers) (0.24.7)\n",
            "Requirement already satisfied: numpy>=1.17 in /usr/local/lib/python3.10/dist-packages (from transformers) (1.26.4)\n",
            "Requirement already satisfied: packaging>=20.0 in /usr/local/lib/python3.10/dist-packages (from transformers) (24.1)\n",
            "Requirement already satisfied: pyyaml>=5.1 in /usr/local/lib/python3.10/dist-packages (from transformers) (6.0.2)\n",
            "Requirement already satisfied: regex!=2019.12.17 in /usr/local/lib/python3.10/dist-packages (from transformers) (2024.9.11)\n",
            "Requirement already satisfied: requests in /usr/local/lib/python3.10/dist-packages (from transformers) (2.32.3)\n",
            "Requirement already satisfied: safetensors>=0.4.1 in /usr/local/lib/python3.10/dist-packages (from transformers) (0.4.5)\n",
            "Requirement already satisfied: tokenizers<0.20,>=0.19 in /usr/local/lib/python3.10/dist-packages (from transformers) (0.19.1)\n",
            "Requirement already satisfied: tqdm>=4.27 in /usr/local/lib/python3.10/dist-packages (from transformers) (4.66.5)\n",
            "Requirement already satisfied: typing-extensions>=4.8.0 in /usr/local/lib/python3.10/dist-packages (from torch) (4.12.2)\n",
            "Requirement already satisfied: sympy in /usr/local/lib/python3.10/dist-packages (from torch) (1.13.3)\n",
            "Requirement already satisfied: networkx in /usr/local/lib/python3.10/dist-packages (from torch) (3.4)\n",
            "Requirement already satisfied: jinja2 in /usr/local/lib/python3.10/dist-packages (from torch) (3.1.4)\n",
            "Requirement already satisfied: fsspec in /usr/local/lib/python3.10/dist-packages (from torch) (2024.6.1)\n",
            "Requirement already satisfied: MarkupSafe>=2.0 in /usr/local/lib/python3.10/dist-packages (from jinja2->torch) (3.0.1)\n",
            "Requirement already satisfied: charset-normalizer<4,>=2 in /usr/local/lib/python3.10/dist-packages (from requests->transformers) (3.4.0)\n",
            "Requirement already satisfied: idna<4,>=2.5 in /usr/local/lib/python3.10/dist-packages (from requests->transformers) (3.10)\n",
            "Requirement already satisfied: urllib3<3,>=1.21.1 in /usr/local/lib/python3.10/dist-packages (from requests->transformers) (2.2.3)\n",
            "Requirement already satisfied: certifi>=2017.4.17 in /usr/local/lib/python3.10/dist-packages (from requests->transformers) (2024.8.30)\n",
            "Requirement already satisfied: mpmath<1.4,>=1.1.0 in /usr/local/lib/python3.10/dist-packages (from sympy->torch) (1.3.0)\n"
          ]
        }
      ]
    },
    {
      "cell_type": "code",
      "source": [
        "!pip install pandas"
      ],
      "metadata": {
        "colab": {
          "base_uri": "https://localhost:8080/"
        },
        "id": "_26Grt5D121x",
        "outputId": "67275816-1c5e-4498-9ac5-5a232e7de666"
      },
      "execution_count": null,
      "outputs": [
        {
          "output_type": "stream",
          "name": "stdout",
          "text": [
            "Requirement already satisfied: pandas in /usr/local/lib/python3.10/dist-packages (1.3.5)\n",
            "Requirement already satisfied: python-dateutil>=2.7.3 in /usr/local/lib/python3.10/dist-packages (from pandas) (2.8.2)\n",
            "Requirement already satisfied: pytz>=2017.3 in /usr/local/lib/python3.10/dist-packages (from pandas) (2024.2)\n",
            "Requirement already satisfied: numpy>=1.21.0 in /usr/local/lib/python3.10/dist-packages (from pandas) (1.26.4)\n",
            "Requirement already satisfied: six>=1.5 in /usr/local/lib/python3.10/dist-packages (from python-dateutil>=2.7.3->pandas) (1.16.0)\n"
          ]
        }
      ]
    },
    {
      "cell_type": "code",
      "source": [
        "import pandas as pd\n",
        "import csv\n",
        "\n",
        "# Use on_bad_lines='skip' to skip problematic rows\n",
        "data = pd.read_csv('train.csv', errors='replace')\n",
        "\n",
        "# Display the first few rows\n",
        "data.head()"
      ],
      "metadata": {
        "colab": {
          "base_uri": "https://localhost:8080/",
          "height": 349
        },
        "id": "NcjT7oGhzczY",
        "outputId": "0770bfb9-0c1d-4510-bc0c-1a68171f34a8"
      },
      "execution_count": null,
      "outputs": [
        {
          "output_type": "error",
          "ename": "TypeError",
          "evalue": "read_csv() got an unexpected keyword argument 'errors'",
          "traceback": [
            "\u001b[0;31m---------------------------------------------------------------------------\u001b[0m",
            "\u001b[0;31mTypeError\u001b[0m                                 Traceback (most recent call last)",
            "\u001b[0;32m<ipython-input-26-d2ab9183f488>\u001b[0m in \u001b[0;36m<cell line: 5>\u001b[0;34m()\u001b[0m\n\u001b[1;32m      3\u001b[0m \u001b[0;34m\u001b[0m\u001b[0m\n\u001b[1;32m      4\u001b[0m \u001b[0;31m# Use on_bad_lines='skip' to skip problematic rows\u001b[0m\u001b[0;34m\u001b[0m\u001b[0;34m\u001b[0m\u001b[0m\n\u001b[0;32m----> 5\u001b[0;31m \u001b[0mdata\u001b[0m \u001b[0;34m=\u001b[0m \u001b[0mpd\u001b[0m\u001b[0;34m.\u001b[0m\u001b[0mread_csv\u001b[0m\u001b[0;34m(\u001b[0m\u001b[0;34m'train.csv'\u001b[0m\u001b[0;34m,\u001b[0m \u001b[0merrors\u001b[0m\u001b[0;34m=\u001b[0m\u001b[0;34m'replace'\u001b[0m\u001b[0;34m)\u001b[0m\u001b[0;34m\u001b[0m\u001b[0;34m\u001b[0m\u001b[0m\n\u001b[0m\u001b[1;32m      6\u001b[0m \u001b[0;34m\u001b[0m\u001b[0m\n\u001b[1;32m      7\u001b[0m \u001b[0;31m# Display the first few rows\u001b[0m\u001b[0;34m\u001b[0m\u001b[0;34m\u001b[0m\u001b[0m\n",
            "\u001b[0;32m/usr/local/lib/python3.10/dist-packages/pandas/util/_decorators.py\u001b[0m in \u001b[0;36mwrapper\u001b[0;34m(*args, **kwargs)\u001b[0m\n\u001b[1;32m    309\u001b[0m                     \u001b[0mstacklevel\u001b[0m\u001b[0;34m=\u001b[0m\u001b[0mstacklevel\u001b[0m\u001b[0;34m,\u001b[0m\u001b[0;34m\u001b[0m\u001b[0;34m\u001b[0m\u001b[0m\n\u001b[1;32m    310\u001b[0m                 )\n\u001b[0;32m--> 311\u001b[0;31m             \u001b[0;32mreturn\u001b[0m \u001b[0mfunc\u001b[0m\u001b[0;34m(\u001b[0m\u001b[0;34m*\u001b[0m\u001b[0margs\u001b[0m\u001b[0;34m,\u001b[0m \u001b[0;34m**\u001b[0m\u001b[0mkwargs\u001b[0m\u001b[0;34m)\u001b[0m\u001b[0;34m\u001b[0m\u001b[0;34m\u001b[0m\u001b[0m\n\u001b[0m\u001b[1;32m    312\u001b[0m \u001b[0;34m\u001b[0m\u001b[0m\n\u001b[1;32m    313\u001b[0m         \u001b[0;32mreturn\u001b[0m \u001b[0mwrapper\u001b[0m\u001b[0;34m\u001b[0m\u001b[0;34m\u001b[0m\u001b[0m\n",
            "\u001b[0;31mTypeError\u001b[0m: read_csv() got an unexpected keyword argument 'errors'"
          ]
        }
      ]
    },
    {
      "cell_type": "code",
      "source": [
        "print(data['chat'].head(10))\n"
      ],
      "metadata": {
        "id": "KGcmIE48jSMx"
      },
      "execution_count": null,
      "outputs": []
    },
    {
      "cell_type": "code",
      "source": [
        "import ast\n",
        "\n",
        "def preprocess_data(data):\n",
        "    prompts = []\n",
        "    responses = []\n",
        "\n",
        "    for entry in data['chat']:\n",
        "        # Convert string representation of list to actual list\n",
        "        try:\n",
        "            entry_list = ast.literal_eval(entry)  # Safely evaluate the string representation\n",
        "            for item in entry_list:\n",
        "                prompts.append(item['prompt'])\n",
        "                responses.append(item.get('response', ''))\n",
        "        except (SyntaxError, ValueError) as e:\n",
        "            print(f\"Error parsing entry: {entry} \\nError: {e}\")\n",
        "\n",
        "    return prompts, responses\n",
        "\n",
        "prompts, responses = preprocess_data(data)\n",
        "\n",
        "print(\"Sample Prompts:\", prompts[:5])\n",
        "print(\"Sample Responses:\", responses[:5])\n"
      ],
      "metadata": {
        "id": "f2g0uvzrjfYt"
      },
      "execution_count": null,
      "outputs": []
    },
    {
      "cell_type": "code",
      "source": [
        "prompts, responses = preprocess_data(data)\n",
        "\n",
        "print(\"Number of Prompts:\", len(prompts))\n",
        "print(\"Number of Responses:\", len(responses))\n"
      ],
      "metadata": {
        "id": "4YywYV1tldLj"
      },
      "execution_count": null,
      "outputs": []
    },
    {
      "cell_type": "code",
      "source": [
        "!pip install transformers\n"
      ],
      "metadata": {
        "id": "ffj8Tf9iknwf"
      },
      "execution_count": null,
      "outputs": []
    },
    {
      "cell_type": "code",
      "source": [
        "import json\n",
        "\n",
        "#Prepare the list to hold formatted entries\n",
        "formatted_data = []\n",
        "\n",
        "#Process each entry in the 'chat' column\n",
        "for index, row in df.iterrows():\n",
        "    chat = row['chat']\n",
        "    if isinstance(chat, str) and ':' in chat:\n",
        "        prompt, response = chat.split(':', 1)  # Splitting the prompt and response\n",
        "        formatted_data.append({\n",
        "            'prompt': prompt.strip(),     # Strip any leading/trailing whitespace\n",
        "            'response': response.strip()   # Strip any leading/trailing whitespace\n",
        "        })\n",
        "\n",
        "with open('formatted_data.json', 'w') as json_file:\n",
        "    json.dump(formatted_data, json_file, indent=4)\n",
        "\n",
        "print(\"Data conversion completed. Check 'formatted_data.json' for the output.\")\n"
      ],
      "metadata": {
        "id": "2cxZzwdVmTkY"
      },
      "execution_count": null,
      "outputs": []
    },
    {
      "cell_type": "code",
      "source": [
        "formatted_data[:5]"
      ],
      "metadata": {
        "id": "-bRIi5dXm1HC"
      },
      "execution_count": null,
      "outputs": []
    },
    {
      "cell_type": "code",
      "source": [
        "from transformers import GPT2Tokenizer\n",
        "\n",
        "tokenizer = GPT2Tokenizer.from_pretrained('gpt2')\n",
        "\n",
        "tokenized_data = [tokenizer.encode(entry['prompt'] + ' ' + entry['response'], return_tensors='pt') for entry in formatted_data]\n"
      ],
      "metadata": {
        "id": "p8EvatkdnaJM"
      },
      "execution_count": null,
      "outputs": []
    },
    {
      "cell_type": "code",
      "source": [
        "import torch\n",
        "from torch.utils.data import Dataset\n",
        "\n",
        "class StoryDataset(Dataset):\n",
        "    def __init__(self, tokenized_data):\n",
        "        self.data = tokenized_data\n",
        "\n",
        "    def __len__(self):\n",
        "        return len(self.data)\n",
        "\n",
        "    def __getitem__(self, idx):\n",
        "        return self.data[idx]\n",
        "\n",
        "story_dataset = StoryDataset(tokenized_data)\n"
      ],
      "metadata": {
        "id": "iyOe2I-pnnp7"
      },
      "execution_count": null,
      "outputs": []
    },
    {
      "cell_type": "code",
      "source": [
        "from transformers import GPT2LMHeadModel\n",
        "\n",
        "model = GPT2LMHeadModel.from_pretrained('gpt2')\n"
      ],
      "metadata": {
        "id": "QXuoOPzXn0Hj"
      },
      "execution_count": null,
      "outputs": []
    },
    {
      "cell_type": "code",
      "source": [
        "from transformers import GPT2Tokenizer, GPT2LMHeadModel\n",
        "import torch\n",
        "from torch.utils.data import Dataset, DataLoader\n",
        "import torch.optim as optim\n",
        "\n",
        "tokenizer = GPT2Tokenizer.from_pretrained(\"gpt2\")\n",
        "model = GPT2LMHeadModel.from_pretrained(\"gpt2\")\n",
        "\n",
        "tokenizer.pad_token = tokenizer.eos_token\n",
        "\n",
        "optimizer = optim.AdamW(model.parameters(), lr=5e-5)\n",
        "\n",
        "def tokenize_and_pad(data):\n",
        "    tokenized_data = []\n",
        "    for entry in data:\n",
        "        encoded = tokenizer(\n",
        "            entry['prompt'] + ' ' + entry['response'],\n",
        "            return_tensors='pt',\n",
        "            padding='longest',\n",
        "            truncation=True,\n",
        "            max_length=512\n",
        "        )\n",
        "        tokenized_data.append(encoded['input_ids'].squeeze(0))\n",
        "\n",
        "    padded_data = torch.nn.utils.rnn.pad_sequence(tokenized_data, batch_first=True, padding_value=tokenizer.pad_token_id)\n",
        "    return padded_data\n",
        "\n",
        "padded_data = tokenize_and_pad(formatted_data)\n",
        "\n",
        "class StoryDataset(Dataset):\n",
        "    def __init__(self, padded_data):\n",
        "        self.data = padded_data\n",
        "\n",
        "    def __len__(self):\n",
        "        return len(self.data)\n",
        "\n",
        "    def __getitem__(self, idx):\n",
        "        return self.data[idx]\n",
        "\n",
        "story_dataset = StoryDataset(padded_data)\n",
        "\n",
        "train_loader = DataLoader(story_dataset, batch_size=2, shuffle=True)\n",
        "\n",
        "num_epochs = 3\n",
        "batch_limit = 10\n",
        "\n",
        "model.train()\n",
        "for epoch in range(num_epochs):\n",
        "    running_loss = 0.0\n",
        "    for i, batch in enumerate(train_loader):\n",
        "        if i >= batch_limit:\n",
        "            break\n",
        "\n",
        "        optimizer.zero_grad()\n",
        "\n",
        "        attention_mask = (batch != tokenizer.pad_token_id).int()\n",
        "\n",
        "        outputs = model(batch, attention_mask=attention_mask, labels=batch)\n",
        "        loss = outputs.loss\n",
        "\n",
        "        loss.backward()\n",
        "        optimizer.step()\n",
        "\n",
        "        running_loss += loss.item()\n",
        "\n",
        "        if i % 1 == 0:\n",
        "            print(f\"Epoch: {epoch}, Batch: {i}, Loss: {loss.item()}\")\n",
        "\n",
        "    avg_loss = running_loss / batch_limit\n",
        "    print(f\"Epoch {epoch} finished. Average Loss: {avg_loss}\")\n",
        "\n",
        "print(\"Training completed.\")\n"
      ],
      "metadata": {
        "id": "sQ0qbBUlIjQ8"
      },
      "execution_count": null,
      "outputs": []
    },
    {
      "cell_type": "code",
      "source": [
        "model.save_pretrained(\"story_model\")\n",
        "tokenizer.save_pretrained(\"story_model\")\n"
      ],
      "metadata": {
        "id": "oUPWc99BPBL3"
      },
      "execution_count": null,
      "outputs": []
    },
    {
      "cell_type": "code",
      "source": [
        "\n",
        "model.eval()  # Set the model to evaluation mode\n",
        "\n",
        "def generate_story(prompt, max_length=400):\n",
        "    input_ids = tokenizer.encode(prompt, return_tensors=\"pt\")\n",
        "    attention_mask = (input_ids != tokenizer.pad_token_id).int()\n",
        "\n",
        "    # Generate story using the model\n",
        "    output = model.generate(\n",
        "        input_ids=input_ids,\n",
        "        attention_mask=attention_mask,\n",
        "        max_length=max_length,\n",
        "        num_return_sequences=1,\n",
        "        no_repeat_ngram_size=2,  # Prevent repetition of phrases\n",
        "        early_stopping=True\n",
        "    )\n",
        "\n",
        "    story = tokenizer.decode(output[0], skip_special_tokens=True)\n",
        "    return story\n",
        "\n",
        "# Enhance the existing story based on user input\n",
        "def enhance_story(existing_story, enhancement_prompt, max_length=150):\n",
        "    input_text = existing_story + \" \" + enhancement_prompt\n",
        "    input_ids = tokenizer.encode(input_text, return_tensors='pt')\n",
        "    output = model.generate(\n",
        "        input_ids,\n",
        "        max_length=max_length + len(input_ids[0]),\n",
        "        num_return_sequences=1,\n",
        "        pad_token_id=tokenizer.eos_token_id,\n",
        "        do_sample=True,\n",
        "        top_k=50,\n",
        "        top_p=0.95,\n",
        "        temperature=1.0,\n",
        "    )\n",
        "    enhanced_story = tokenizer.decode(output[0], skip_special_tokens=True)\n",
        "    return enhanced_story\n",
        "\n",
        "if __name__ == '__main__':\n",
        "    existing_story = \"\"\n",
        "\n",
        "    prompt = input(\"Enter a prompt for the story: \")\n",
        "    existing_story = generate_story(prompt)  # Generate the first story\n",
        "    print(\"\\nGenerated Story:\\n\", existing_story.replace(\".\", \".\\n\\n\"))\n",
        "\n",
        "    while True:\n",
        "        action_choice = input(\"\\nDo you want to (1) enhance this story, (2) generate a new story, or (3) confirm this story? (Enter 1, 2, or 3): \").strip()\n",
        "\n",
        "        if action_choice == '1':\n",
        "            enhancement_prompt = input(\"Enter details to enhance the story: \")\n",
        "            existing_story = enhance_story(existing_story, enhancement_prompt)\n",
        "            print(\"\\nEnhanced Story:\\n\", existing_story.replace(\".\", \".\\n\\n\"))\n",
        "\n",
        "        elif action_choice == '2':\n",
        "            prompt = input(\"Enter a prompt for the new story: \")\n",
        "            existing_story = generate_story(prompt)\n",
        "            print(\"\\nGenerated Story:\\n\", existing_story.replace(\".\", \".\\n\\n\"))\n",
        "\n",
        "        elif action_choice == '3':\n",
        "            break\n",
        "\n",
        "        else:\n",
        "            print(\"Invalid input. Please enter 1, 2, or 3.\")\n",
        "            continue\n",
        "\n",
        "        user_choice = input(\"\\nDo you want to continue? (yes/no): \").strip().lower()\n",
        "        if user_choice != 'yes':\n",
        "            break\n",
        "\n",
        "    print(\"Thank you for using the storytelling generator!\")"
      ],
      "metadata": {
        "id": "lEs5SP77PbYR"
      },
      "execution_count": null,
      "outputs": []
    }
  ],
  "metadata": {
    "colab": {
      "provenance": []
    },
    "kernelspec": {
      "display_name": "Python 3",
      "name": "python3"
    },
    "language_info": {
      "name": "python"
    }
  },
  "nbformat": 4,
  "nbformat_minor": 0
}